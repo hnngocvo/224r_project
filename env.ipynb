{
 "cells": [
  {
   "cell_type": "code",
   "execution_count": 6,
   "id": "initial_id",
   "metadata": {
    "ExecuteTime": {
     "end_time": "2025-05-05T04:55:09.626716Z",
     "start_time": "2025-05-05T04:55:09.624978Z"
    }
   },
   "outputs": [],
   "source": [
    "import gym\n",
    "from gym import spaces\n",
    "import numpy as np\n",
    "import pandas as pd\n",
    "import matplotlib.pyplot as plt"
   ]
  },
  {
   "cell_type": "code",
   "execution_count": 9,
   "id": "ee13e8d19ee66881",
   "metadata": {
    "ExecuteTime": {
     "end_time": "2025-05-05T05:45:44.145178Z",
     "start_time": "2025-05-05T05:45:44.132260Z"
    }
   },
   "outputs": [
    {
     "name": "stdout",
     "output_type": "stream",
     "text": [
      "The history saving thread hit an unexpected error (OperationalError('attempt to write a readonly database')).History will not be written to the database.\n"
     ]
    }
   ],
   "source": [
    "class VacuumEnv(gym.Env):\n",
    "    metadata = {'render.modes': ['human']}\n",
    "\n",
    "    def __init__(self, grid_size=(5, 5)):\n",
    "        super(VacuumEnv, self).__init__()\n",
    "        self.grid_size = grid_size\n",
    "        self.action_space = spaces.Discrete(3)  # 0=forward, 1=rotate counter-clockwise, 2=rotate clockwise\n",
    "        self.observation_space = spaces.Dict({\n",
    "            \"agent_pos\": spaces.MultiDiscrete([grid_size[0], grid_size[1]]), # agent position on the grid\n",
    "            \"agent_orient\": spaces.Discrete(8), # TODO: can the agent face 4 or 8 directions? What amount of local information do we need?\n",
    "            \"local_view\": spaces.MultiBinary(3)  # [front, left, right]\n",
    "        })\n",
    "\n",
    "        self.orientations = {\n",
    "            0: (-1, 0),   # N\n",
    "            1: (-1, 1),   # NE\n",
    "            2: (0, 1),    # E\n",
    "            3: (1, 1),    # SE\n",
    "            4: (1, 0),    # S\n",
    "            5: (1, -1),   # SW\n",
    "            6: (0, -1),   # W\n",
    "            7: (-1, -1),  # NW\n",
    "        } # define the 8 directions\n",
    "\n",
    "        self.reset() # reset the environment when initialized\n",
    "\n",
    "    def reset(self):\n",
    "        self.agent_pos = [0, 0] # TODO: agent starting position is upper left corner for now\n",
    "        self.agent_orient = 2  # # TODO: agent starting orientation is facing right\n",
    "        self.cleaned_map = np.zeros(self.grid_size, dtype=np.uint8) # map of cleaned tiles\n",
    "        self.dirt_map = np.ones(self.grid_size, dtype=np.uint8) # TODO: all tiles are initially dirty, no dirt map for now\n",
    "        self.cleaned_map[tuple(self.agent_pos)] = 1\n",
    "        self.dirt_map[tuple(self.agent_pos)] = 0\n",
    "        return self._get_obs()\n",
    "\n",
    "    def _get_obs(self):\n",
    "        \"\"\"Check surroundings and return observation\"\"\"\n",
    "        front = self._check_cell_in_direction(self.agent_orient)\n",
    "        left = self._check_cell_in_direction((self.agent_orient - 2) % 8)\n",
    "        right = self._check_cell_in_direction((self.agent_orient + 2) % 8)\n",
    "        return {\n",
    "            \"agent_pos\": np.array(self.agent_pos, dtype=np.int32),\n",
    "            \"agent_orient\": self.agent_orient,\n",
    "            \"local_view\": np.array([front, left, right], dtype=np.uint8)\n",
    "        }\n",
    "\n",
    "    def _check_cell_in_direction(self, direction):\n",
    "        \"\"\"Check the dirt map in a specific direction\"\"\"\n",
    "        dx, dy = self.orientations[direction]\n",
    "        x, y = self.agent_pos[0] + dx, self.agent_pos[1] + dy\n",
    "        if 0 <= x < self.grid_size[0] and 0 <= y < self.grid_size[1]:\n",
    "            return 1 if self.dirt_map[x, y] > 0 else 0\n",
    "        return 0  # out-of-bounds treated as clean\n",
    "\n",
    "    def step(self, action):\n",
    "        \"\"\"Take a step in the environment\"\"\"\n",
    "        reward = 0\n",
    "        moved = False\n",
    "\n",
    "        if action == 0:  # move forward\n",
    "            dx, dy = self.orientations[self.agent_orient]\n",
    "            nx, ny = self.agent_pos[0] + dx, self.agent_pos[1] + dy\n",
    "            if 0 <= nx < self.grid_size[0] and 0 <= ny < self.grid_size[1]:\n",
    "                self.agent_pos = [nx, ny]\n",
    "                moved = True\n",
    "                reward -= 0.1  # forward movement cost\n",
    "            else:\n",
    "                reward -= 1.0  # invalid move (out-of-bounds)\n",
    "        elif action == 1:  # rotate left\n",
    "            self.agent_orient = (self.agent_orient - 1) % 8\n",
    "            reward -= 0.05 # rotation cost\n",
    "        elif action == 2:  # rotate right\n",
    "            self.agent_orient = (self.agent_orient + 1) % 8\n",
    "            reward -= 0.05 # rotation cost\n",
    "\n",
    "        x, y = self.agent_pos\n",
    "        if moved:\n",
    "            # update dirt and cleaned maps\n",
    "            if self.dirt_map[x, y] == 1:\n",
    "                reward += 1.0\n",
    "                self.dirt_map[x, y] = 0\n",
    "                self.cleaned_map[x, y] = 1\n",
    "            else:\n",
    "                reward -= 0.5  # revisiting a cleaned tile\n",
    "\n",
    "        done = np.all(self.dirt_map == 0) # check if all tiles are cleaned\n",
    "\n",
    "        if done:\n",
    "            reward += 10.0  # terminal bonus\n",
    "\n",
    "        return self._get_obs(), reward, done, {} # {} is for gym compatibility; can include additional info\n",
    "\n",
    "    def render(self, mode='human'):\n",
    "        \"\"\"Render the current state of the environment.\"\"\"\n",
    "        grid = np.full(self.grid_size, '.', dtype='<U1') # initialize grid with placeholders .\n",
    "        for i in range(self.grid_size[0]):\n",
    "            for j in range(self.grid_size[1]):\n",
    "                if self.dirt_map[i, j]:\n",
    "                    grid[i, j] = 'D' # dirt tile is represented by 'D'\n",
    "                elif self.cleaned_map[i, j]:\n",
    "                    grid[i, j] = '*' # cleaned tile is represented by '*'\n",
    "        x, y = self.agent_pos\n",
    "        grid[x, y] = 'A' # agent is represented by 'A'\n",
    "        print(\"\\n\".join(\" \".join(row) for row in grid))\n",
    "        print(f\"Orientation: {self.agent_orient}\")\n",
    "        print()\n"
   ]
  },
  {
   "cell_type": "code",
   "execution_count": 3,
   "id": "3227d00db57de603",
   "metadata": {
    "ExecuteTime": {
     "end_time": "2025-05-05T05:45:54.851373Z",
     "start_time": "2025-05-05T05:45:54.843243Z"
    }
   },
   "outputs": [],
   "source": [
    "# random baseline for 5x5 grid\n",
    "env = VacuumEnv(grid_size=(5, 5))\n",
    "obs = env.reset()\n",
    "total_reward = 0\n",
    "history = []\n",
    "\n",
    "for _ in range(1000):\n",
    "    action = env.action_space.sample()\n",
    "    obs, reward, done, _ = env.step(action)\n",
    "    history.append((tuple(env.agent_pos), reward))\n",
    "    total_reward += reward\n",
    "    if done:\n",
    "        break\n"
   ]
  },
  {
   "cell_type": "code",
   "execution_count": 4,
   "id": "88fa397f415b3bd6",
   "metadata": {
    "ExecuteTime": {
     "end_time": "2025-05-05T05:46:03.657170Z",
     "start_time": "2025-05-05T05:46:03.651948Z"
    }
   },
   "outputs": [
    {
     "name": "stdout",
     "output_type": "stream",
     "text": [
      "    Position  Reward  Step\n",
      "0     (0, 0)   -0.05     1\n",
      "1     (0, 0)   -1.00     2\n",
      "2     (0, 0)   -1.00     3\n",
      "3     (0, 0)   -0.05     4\n",
      "4     (0, 0)   -0.05     5\n",
      "..       ...     ...   ...\n",
      "429   (3, 4)   -0.05   430\n",
      "430   (3, 4)   -0.05   431\n",
      "431   (3, 4)   -0.05   432\n",
      "432   (3, 4)   -0.05   433\n",
      "433   (4, 4)   10.90   434\n",
      "\n",
      "[434 rows x 3 columns]\n",
      "\n",
      "Total reward: -84.69999999999936\n",
      "Steps taken: 434\n"
     ]
    }
   ],
   "source": [
    "df = pd.DataFrame(history, columns=[\"Position\", \"Reward\"])\n",
    "df[\"Step\"] = range(1, len(df) + 1)\n",
    "\n",
    "print(df)\n",
    "print(f\"\\nTotal reward: {total_reward}\")\n",
    "print(f\"Steps taken: {len(df)}\")"
   ]
  },
  {
   "cell_type": "code",
   "execution_count": 5,
   "id": "e3b62029ce8a3328",
   "metadata": {
    "ExecuteTime": {
     "end_time": "2025-05-05T05:46:20.614482Z",
     "start_time": "2025-05-05T05:46:20.564341Z"
    }
   },
   "outputs": [
    {
     "data": {
      "image/png": "[encoded data removed]",
      "text/plain": [
       "<Figure size 500x500 with 1 Axes>"
      ]
     },
     "metadata": {},
     "output_type": "display_data"
    }
   ],
   "source": [
    "positions = [pos for pos, _ in history]\n",
    "x_vals, y_vals = zip(*positions)\n",
    "\n",
    "plt.figure(figsize=(5, 5))\n",
    "plt.plot(y_vals, x_vals, marker='o')\n",
    "plt.gca().invert_yaxis()\n",
    "plt.title(\"Random Agent Cleaning Path\")\n",
    "plt.grid(True)\n",
    "plt.show()"
   ]
  },
  {
   "cell_type": "code",
   "execution_count": 6,
   "id": "1652a42e387c1166",
   "metadata": {
    "ExecuteTime": {
     "end_time": "2025-05-05T05:47:00.101761Z",
     "start_time": "2025-05-05T05:47:00.099100Z"
    }
   },
   "outputs": [
    {
     "name": "stdout",
     "output_type": "stream",
     "text": [
      "* * * * *\n",
      "* * * * *\n",
      "* * * * *\n",
      "* * * * *\n",
      "* * * * A\n",
      "Orientation: 4\n",
      "\n"
     ]
    }
   ],
   "source": [
    "env.render()"
   ]
  },
  {
   "cell_type": "markdown",
   "id": "fac0ca0701a35692",
   "metadata": {},
   "source": [
    "##### this version includes the stay action, but random baseline will easily get stuck"
   ]
  },
  {
   "cell_type": "code",
   "execution_count": 15,
   "id": "7c0186fad3fc0eb0",
   "metadata": {},
   "outputs": [],
   "source": [
    "class VacuumEnv(gym.Env):\n",
    "    metadata = {'render.modes': ['human']}\n",
    "\n",
    "    def __init__(self, grid_size=(5, 5)):\n",
    "        super(VacuumEnv, self).__init__()\n",
    "        self.grid_size = grid_size\n",
    "        self.action_space = spaces.Discrete(4)  # 0=forward, 1=rotate left, 2=rotate right, 3=stay\n",
    "        self.observation_space = spaces.Dict({\n",
    "            \"agent_pos\": spaces.MultiDiscrete([grid_size[0], grid_size[1]]),\n",
    "            \"agent_orient\": spaces.Discrete(8),\n",
    "            \"local_view\": spaces.MultiBinary(3)  # [front, left, right] view\n",
    "        })\n",
    "\n",
    "        self.orientations = {\n",
    "            0: (-1, 0),   # N\n",
    "            1: (-1, 1),   # NE\n",
    "            2: (0, 1),    # E\n",
    "            3: (1, 1),    # SE\n",
    "            4: (1, 0),    # S\n",
    "            5: (1, -1),   # SW\n",
    "            6: (0, -1),   # W\n",
    "            7: (-1, -1),  # NW\n",
    "        }\n",
    "\n",
    "        self.reset()\n",
    "\n",
    "    def reset(self):\n",
    "        self.agent_pos = [0, 0]\n",
    "        self.agent_orient = 2  # Facing right initially\n",
    "        self.cleaned_map = np.zeros(self.grid_size, dtype=np.uint8)\n",
    "        self.dirt_map = np.ones(self.grid_size, dtype=np.uint8)\n",
    "        self.cleaned_map[tuple(self.agent_pos)] = 1\n",
    "        self.dirt_map[tuple(self.agent_pos)] = 0\n",
    "        return self._get_obs()\n",
    "\n",
    "    def _get_obs(self):\n",
    "        front = self._check_cell_in_direction(self.agent_orient)\n",
    "        left = self._check_cell_in_direction((self.agent_orient - 2) % 8)\n",
    "        right = self._check_cell_in_direction((self.agent_orient + 2) % 8)\n",
    "        return {\n",
    "            \"agent_pos\": np.array(self.agent_pos, dtype=np.int32),\n",
    "            \"agent_orient\": self.agent_orient,\n",
    "            \"local_view\": np.array([front, left, right], dtype=np.uint8)\n",
    "        }\n",
    "\n",
    "    def _check_cell_in_direction(self, direction):\n",
    "        dx, dy = self.orientations[direction]\n",
    "        x, y = self.agent_pos[0] + dx, self.agent_pos[1] + dy\n",
    "        if 0 <= x < self.grid_size[0] and 0 <= y < self.grid_size[1]:\n",
    "            return 0 if self.dirt_map[x, y] == 0 else 1\n",
    "        return 0  # wall or out of bounds considered clean\n",
    "\n",
    "    def step(self, action):\n",
    "        reward = 0\n",
    "        moved = False\n",
    "\n",
    "        if action == 0:  # move forward\n",
    "            dx, dy = self.orientations[self.agent_orient]\n",
    "            nx, ny = self.agent_pos[0] + dx, self.agent_pos[1] + dy\n",
    "            if 0 <= nx < self.grid_size[0] and 0 <= ny < self.grid_size[1]:\n",
    "                self.agent_pos = [nx, ny]\n",
    "                moved = True\n",
    "                reward -= 0.1  # forward movement cost\n",
    "            else:\n",
    "                reward -= 1.0  # invalid move (out of bounds)\n",
    "        elif action == 1:  # rotate left\n",
    "            self.agent_orient = (self.agent_orient - 1) % 8\n",
    "            reward -= 0.05\n",
    "        elif action == 2:  # rotate right\n",
    "            self.agent_orient = (self.agent_orient + 1) % 8\n",
    "            reward -= 0.05\n",
    "        elif action == 3:  # stay in place\n",
    "            pass  # no movement or cost\n",
    "\n",
    "        x, y = self.agent_pos\n",
    "        if moved:\n",
    "            if self.dirt_map[x, y] == 1:\n",
    "                reward += 1.0\n",
    "                self.dirt_map[x, y] = 0\n",
    "                self.cleaned_map[x, y] = 1\n",
    "            else:\n",
    "                reward -= 0.5  # revisiting a cleaned tile\n",
    "\n",
    "        done = np.all(self.dirt_map == 0)\n",
    "        if done:\n",
    "            reward += 10.0  # terminal reward\n",
    "\n",
    "        return self._get_obs(), reward, done, {}\n",
    "\n",
    "    def render(self, mode='human'):\n",
    "        grid = np.full(self.grid_size, '.', dtype='<U1')\n",
    "        for i in range(self.grid_size[0]):\n",
    "            for j in range(self.grid_size[1]):\n",
    "                if self.dirt_map[i, j]:\n",
    "                    grid[i, j] = 'D'\n",
    "                elif self.cleaned_map[i, j]:\n",
    "                    grid[i, j] = '*'\n",
    "        x, y = self.agent_pos\n",
    "        grid[x, y] = 'A'\n",
    "        print(\"\\n\".join(\" \".join(row) for row in grid))\n",
    "        print(f\"Orientation: {self.agent_orient}\")\n",
    "        print()"
   ]
  },
  {
   "cell_type": "code",
   "execution_count": 19,
   "id": "e11cf8a934d5f73a",
   "metadata": {},
   "outputs": [],
   "source": [
    "env = VacuumEnv(grid_size=(5, 5))\n",
    "obs = env.reset()\n",
    "total_reward = 0\n",
    "history = []\n",
    "\n",
    "for _ in range(1000):  # limit steps to avoid infinite loop\n",
    "    action = env.action_space.sample()\n",
    "    obs, reward, done, _ = env.step(action)\n",
    "    history.append((tuple(env.agent_pos), reward))\n",
    "    total_reward += reward\n",
    "    if done:\n",
    "        break\n"
   ]
  },
  {
   "cell_type": "code",
   "execution_count": 20,
   "id": "c989cda139413bb3",
   "metadata": {},
   "outputs": [
    {
     "name": "stdout",
     "output_type": "stream",
     "text": [
      "    Position  Reward  Step\n",
      "0     (0, 0)    0.00     1\n",
      "1     (0, 1)    0.90     2\n",
      "2     (0, 1)   -0.05     3\n",
      "3     (0, 1)    0.00     4\n",
      "4     (0, 1)   -0.05     5\n",
      "..       ...     ...   ...\n",
      "995   (4, 0)   -0.05   996\n",
      "996   (4, 0)   -1.00   997\n",
      "997   (4, 0)   -0.05   998\n",
      "998   (4, 0)   -1.00   999\n",
      "999   (4, 0)   -1.00  1000\n",
      "\n",
      "[1000 rows x 3 columns]\n",
      "\n",
      "Total reward: -200.75000000000094\n",
      "Steps taken: 1000\n"
     ]
    }
   ],
   "source": [
    "df = pd.DataFrame(history, columns=[\"Position\", \"Reward\"])\n",
    "df[\"Step\"] = range(1, len(df) + 1)\n",
    "\n",
    "print(df)\n",
    "print(f\"\\nTotal reward: {total_reward}\")\n",
    "print(f\"Steps taken: {len(df)}\")"
   ]
  },
  {
   "cell_type": "code",
   "execution_count": 21,
   "id": "bd4ca0c25f12398d",
   "metadata": {},
   "outputs": [
    {
     "data": {
      "image/png": "[encoded data removed]",
      "text/plain": [
       "<Figure size 500x500 with 1 Axes>"
      ]
     },
     "metadata": {},
     "output_type": "display_data"
    }
   ],
   "source": [
    "positions = [pos for pos, _ in history]\n",
    "x_vals, y_vals = zip(*positions)\n",
    "\n",
    "plt.figure(figsize=(5, 5))\n",
    "plt.plot(y_vals, x_vals, marker='o')\n",
    "plt.gca().invert_yaxis()\n",
    "plt.title(\"Random Agent Cleaning Path\")\n",
    "plt.grid(True)\n",
    "plt.show()"
   ]
  },
  {
   "cell_type": "markdown",
   "id": "5072b385-e491-4a4b-ae00-288b74bab05f",
   "metadata": {},
   "source": [
    "# Try PPO using gymnasium and stable_baseline"
   ]
  },
  {
   "cell_type": "code",
   "execution_count": 10,
   "id": "2f4d2d40-cd64-45fa-8578-2847db5cbda1",
   "metadata": {},
   "outputs": [],
   "source": [
    "import gymnasium as gym\n",
    "from gymnasium import spaces\n",
    "from stable_baselines3 import PPO\n",
    "from stable_baselines3.common.evaluation import evaluate_policy"
   ]
  },
  {
   "cell_type": "code",
   "execution_count": 15,
   "id": "c714d205-0312-4a81-8c41-e18a1b01348c",
   "metadata": {},
   "outputs": [],
   "source": [
    "class VacuumEnv(gym.Env):\n",
    "    metadata = {'render_modes': ['human']}\n",
    "\n",
    "    def __init__(self, grid_size=(5, 5), render_mode=None):\n",
    "        super().__init__()\n",
    "        self.grid_size = grid_size\n",
    "        self.render_mode = render_mode\n",
    "        self.action_space = spaces.Discrete(3)  # forward, left, right\n",
    "        self.observation_space = spaces.Dict({\n",
    "            \"agent_pos\": spaces.MultiDiscrete([grid_size[0], grid_size[1]]),\n",
    "            \"agent_orient\": spaces.Discrete(8),\n",
    "            \"local_view\": spaces.MultiBinary(3)\n",
    "        })\n",
    "\n",
    "        self.orientations = {\n",
    "            0: (-1, 0),   1: (-1, 1),\n",
    "            2: (0, 1),    3: (1, 1),\n",
    "            4: (1, 0),    5: (1, -1),\n",
    "            6: (0, -1),   7: (-1, -1),\n",
    "        }\n",
    "\n",
    "    def reset(self, seed=None, options=None):\n",
    "        super().reset(seed=seed)\n",
    "        self.agent_pos = [0, 0]\n",
    "        self.agent_orient = 2  # facing right\n",
    "        self.cleaned_map = np.zeros(self.grid_size, dtype=np.uint8)\n",
    "        self.dirt_map = np.ones(self.grid_size, dtype=np.uint8)\n",
    "        self.cleaned_map[tuple(self.agent_pos)] = 1\n",
    "        self.dirt_map[tuple(self.agent_pos)] = 0\n",
    "        obs = self._get_obs()\n",
    "        return obs, {}  # Gymnasium format\n",
    "\n",
    "    def _get_obs(self):\n",
    "        front = self._check_cell_in_direction(self.agent_orient)\n",
    "        left = self._check_cell_in_direction((self.agent_orient - 2) % 8)\n",
    "        right = self._check_cell_in_direction((self.agent_orient + 2) % 8)\n",
    "        return {\n",
    "            \"agent_pos\": np.array(self.agent_pos, dtype=np.int32),\n",
    "            \"agent_orient\": self.agent_orient,\n",
    "            \"local_view\": np.array([front, left, right], dtype=np.int8)\n",
    "        }\n",
    "\n",
    "    def _check_cell_in_direction(self, direction):\n",
    "        dx, dy = self.orientations[direction]\n",
    "        x, y = self.agent_pos[0] + dx, self.agent_pos[1] + dy\n",
    "        if 0 <= x < self.grid_size[0] and 0 <= y < self.grid_size[1]:\n",
    "            return 1 if self.dirt_map[x, y] > 0 else 0\n",
    "        return 0\n",
    "\n",
    "    def step(self, action):\n",
    "        reward = 0\n",
    "        moved = False\n",
    "\n",
    "        if action == 0:\n",
    "            dx, dy = self.orientations[self.agent_orient]\n",
    "            nx, ny = self.agent_pos[0] + dx, self.agent_pos[1] + dy\n",
    "            if 0 <= nx < self.grid_size[0] and 0 <= ny < self.grid_size[1]:\n",
    "                self.agent_pos = [nx, ny]\n",
    "                moved = True\n",
    "                reward -= 0.1\n",
    "            else:\n",
    "                reward -= 1.0\n",
    "        elif action == 1:\n",
    "            self.agent_orient = (self.agent_orient - 1) % 8\n",
    "            reward -= 0.05\n",
    "        elif action == 2:\n",
    "            self.agent_orient = (self.agent_orient + 1) % 8\n",
    "            reward -= 0.05\n",
    "\n",
    "        x, y = self.agent_pos\n",
    "        if moved:\n",
    "            if self.dirt_map[x, y] == 1:\n",
    "                reward += 1.0\n",
    "                self.dirt_map[x, y] = 0\n",
    "                self.cleaned_map[x, y] = 1\n",
    "            else:\n",
    "                reward -= 0.5\n",
    "        \n",
    "        done = bool(np.all(self.dirt_map == 0))\n",
    "        if done:\n",
    "            reward += 10.0\n",
    "\n",
    "        return self._get_obs(), reward, done, False, {}  # Gymnasium format\n",
    "\n",
    "    def render(self):\n",
    "        grid = np.full(self.grid_size, '.', dtype='<U1')\n",
    "        for i in range(self.grid_size[0]):\n",
    "            for j in range(self.grid_size[1]):\n",
    "                if self.dirt_map[i, j]:\n",
    "                    grid[i, j] = 'D'\n",
    "                elif self.cleaned_map[i, j]:\n",
    "                    grid[i, j] = '*'\n",
    "        x, y = self.agent_pos\n",
    "        grid[x, y] = 'A'\n",
    "        print(\"\\n\".join(\" \".join(row) for row in grid))\n",
    "        print(f\"Orientation: {self.agent_orient}\\n\")\n"
   ]
  },
  {
   "cell_type": "code",
   "execution_count": null,
   "id": "9df844f3-fcc9-4d2e-9ddd-5475d6e3def4",
   "metadata": {},
   "outputs": [],
   "source": [
    "from stable_baselines3.common.env_checker import check_env\n",
    "\n",
    "env = VacuumEnv()\n",
    "check_env(env, warn=True)  # optional: validate compatibility\n",
    "\n",
    "model = PPO(\"MultiInputPolicy\", env, verbose=1)\n",
    "model.learn(total_timesteps=10000)"
   ]
  },
  {
   "cell_type": "markdown",
   "id": "95b1982f-6c7b-45cf-bc9e-1ea5b5f09242",
   "metadata": {},
   "source": [
    "# Try the DQN method"
   ]
  },
  {
   "cell_type": "code",
   "execution_count": 17,
   "id": "98ff9d51-a1d4-45de-bbae-9aaf64873e8a",
   "metadata": {},
   "outputs": [
    {
     "name": "stdout",
     "output_type": "stream",
     "text": [
      "Using cpu device\n",
      "Wrapping the env with a `Monitor` wrapper\n",
      "Wrapping the env in a DummyVecEnv.\n"
     ]
    },
    {
     "name": "stderr",
     "output_type": "stream",
     "text": [
      "/Users/maguo/miniconda3/envs/cs224r/lib/python3.11/site-packages/stable_baselines3/common/evaluation.py:67: UserWarning: Evaluation environment is not wrapped with a ``Monitor`` wrapper. This may result in reporting modified episode lengths and rewards, if other wrappers happen to modify these. Consider wrapping environment first with ``Monitor`` wrapper.\n",
      "  warnings.warn(\n"
     ]
    },
    {
     "ename": "KeyboardInterrupt",
     "evalue": "",
     "output_type": "error",
     "traceback": [
      "\u001b[31m---------------------------------------------------------------------------\u001b[39m",
      "\u001b[31mKeyboardInterrupt\u001b[39m                         Traceback (most recent call last)",
      "\u001b[36mCell\u001b[39m\u001b[36m \u001b[39m\u001b[32mIn[17]\u001b[39m\u001b[32m, line 12\u001b[39m\n\u001b[32m      9\u001b[39m model.learn(total_timesteps=\u001b[32m10000\u001b[39m)\n\u001b[32m     11\u001b[39m \u001b[38;5;66;03m# Evaluate the model\u001b[39;00m\n\u001b[32m---> \u001b[39m\u001b[32m12\u001b[39m mean_reward, std_reward = \u001b[43mevaluate_policy\u001b[49m\u001b[43m(\u001b[49m\u001b[43mmodel\u001b[49m\u001b[43m,\u001b[49m\u001b[43m \u001b[49m\u001b[43menv\u001b[49m\u001b[43m,\u001b[49m\u001b[43m \u001b[49m\u001b[43mn_eval_episodes\u001b[49m\u001b[43m=\u001b[49m\u001b[32;43m10\u001b[39;49m\u001b[43m)\u001b[49m\n\u001b[32m     13\u001b[39m \u001b[38;5;28mprint\u001b[39m(\u001b[33mf\u001b[39m\u001b[33m\"\u001b[39m\u001b[33mMean reward: \u001b[39m\u001b[38;5;132;01m{\u001b[39;00mmean_reward\u001b[38;5;132;01m:\u001b[39;00m\u001b[33m.2f\u001b[39m\u001b[38;5;132;01m}\u001b[39;00m\u001b[33m ± \u001b[39m\u001b[38;5;132;01m{\u001b[39;00mstd_reward\u001b[38;5;132;01m:\u001b[39;00m\u001b[33m.2f\u001b[39m\u001b[38;5;132;01m}\u001b[39;00m\u001b[33m\"\u001b[39m)\n\u001b[32m     15\u001b[39m \u001b[38;5;66;03m# Run the trained agent\u001b[39;00m\n",
      "\u001b[36mFile \u001b[39m\u001b[32m~/miniconda3/envs/cs224r/lib/python3.11/site-packages/stable_baselines3/common/evaluation.py:94\u001b[39m, in \u001b[36mevaluate_policy\u001b[39m\u001b[34m(model, env, n_eval_episodes, deterministic, render, callback, reward_threshold, return_episode_rewards, warn)\u001b[39m\n\u001b[32m     87\u001b[39m \u001b[38;5;28;01mwhile\u001b[39;00m (episode_counts < episode_count_targets).any():\n\u001b[32m     88\u001b[39m     actions, states = model.predict(\n\u001b[32m     89\u001b[39m         observations,  \u001b[38;5;66;03m# type: ignore[arg-type]\u001b[39;00m\n\u001b[32m     90\u001b[39m         state=states,\n\u001b[32m     91\u001b[39m         episode_start=episode_starts,\n\u001b[32m     92\u001b[39m         deterministic=deterministic,\n\u001b[32m     93\u001b[39m     )\n\u001b[32m---> \u001b[39m\u001b[32m94\u001b[39m     new_observations, rewards, dones, infos = \u001b[43menv\u001b[49m\u001b[43m.\u001b[49m\u001b[43mstep\u001b[49m\u001b[43m(\u001b[49m\u001b[43mactions\u001b[49m\u001b[43m)\u001b[49m\n\u001b[32m     95\u001b[39m     current_rewards += rewards\n\u001b[32m     96\u001b[39m     current_lengths += \u001b[32m1\u001b[39m\n",
      "\u001b[36mFile \u001b[39m\u001b[32m~/miniconda3/envs/cs224r/lib/python3.11/site-packages/stable_baselines3/common/vec_env/base_vec_env.py:222\u001b[39m, in \u001b[36mVecEnv.step\u001b[39m\u001b[34m(self, actions)\u001b[39m\n\u001b[32m    215\u001b[39m \u001b[38;5;250m\u001b[39m\u001b[33;03m\"\"\"\u001b[39;00m\n\u001b[32m    216\u001b[39m \u001b[33;03mStep the environments with the given action\u001b[39;00m\n\u001b[32m    217\u001b[39m \n\u001b[32m    218\u001b[39m \u001b[33;03m:param actions: the action\u001b[39;00m\n\u001b[32m    219\u001b[39m \u001b[33;03m:return: observation, reward, done, information\u001b[39;00m\n\u001b[32m    220\u001b[39m \u001b[33;03m\"\"\"\u001b[39;00m\n\u001b[32m    221\u001b[39m \u001b[38;5;28mself\u001b[39m.step_async(actions)\n\u001b[32m--> \u001b[39m\u001b[32m222\u001b[39m \u001b[38;5;28;01mreturn\u001b[39;00m \u001b[38;5;28;43mself\u001b[39;49m\u001b[43m.\u001b[49m\u001b[43mstep_wait\u001b[49m\u001b[43m(\u001b[49m\u001b[43m)\u001b[49m\n",
      "\u001b[36mFile \u001b[39m\u001b[32m~/miniconda3/envs/cs224r/lib/python3.11/site-packages/stable_baselines3/common/vec_env/dummy_vec_env.py:59\u001b[39m, in \u001b[36mDummyVecEnv.step_wait\u001b[39m\u001b[34m(self)\u001b[39m\n\u001b[32m     56\u001b[39m \u001b[38;5;28;01mdef\u001b[39;00m\u001b[38;5;250m \u001b[39m\u001b[34mstep_wait\u001b[39m(\u001b[38;5;28mself\u001b[39m) -> VecEnvStepReturn:\n\u001b[32m     57\u001b[39m     \u001b[38;5;66;03m# Avoid circular imports\u001b[39;00m\n\u001b[32m     58\u001b[39m     \u001b[38;5;28;01mfor\u001b[39;00m env_idx \u001b[38;5;129;01min\u001b[39;00m \u001b[38;5;28mrange\u001b[39m(\u001b[38;5;28mself\u001b[39m.num_envs):\n\u001b[32m---> \u001b[39m\u001b[32m59\u001b[39m         obs, \u001b[38;5;28mself\u001b[39m.buf_rews[env_idx], terminated, truncated, \u001b[38;5;28mself\u001b[39m.buf_infos[env_idx] = \u001b[38;5;28;43mself\u001b[39;49m\u001b[43m.\u001b[49m\u001b[43menvs\u001b[49m\u001b[43m[\u001b[49m\u001b[43menv_idx\u001b[49m\u001b[43m]\u001b[49m\u001b[43m.\u001b[49m\u001b[43mstep\u001b[49m\u001b[43m(\u001b[49m\u001b[43m  \u001b[49m\u001b[38;5;66;43;03m# type: ignore[assignment]\u001b[39;49;00m\n\u001b[32m     60\u001b[39m \u001b[43m            \u001b[49m\u001b[38;5;28;43mself\u001b[39;49m\u001b[43m.\u001b[49m\u001b[43mactions\u001b[49m\u001b[43m[\u001b[49m\u001b[43menv_idx\u001b[49m\u001b[43m]\u001b[49m\n\u001b[32m     61\u001b[39m \u001b[43m        \u001b[49m\u001b[43m)\u001b[49m\n\u001b[32m     62\u001b[39m         \u001b[38;5;66;03m# convert to SB3 VecEnv api\u001b[39;00m\n\u001b[32m     63\u001b[39m         \u001b[38;5;28mself\u001b[39m.buf_dones[env_idx] = terminated \u001b[38;5;129;01mor\u001b[39;00m truncated\n",
      "\u001b[36mFile \u001b[39m\u001b[32m~/miniconda3/envs/cs224r/lib/python3.11/site-packages/gymnasium/core.py:560\u001b[39m, in \u001b[36mObservationWrapper.step\u001b[39m\u001b[34m(self, action)\u001b[39m\n\u001b[32m    556\u001b[39m \u001b[38;5;28;01mdef\u001b[39;00m\u001b[38;5;250m \u001b[39m\u001b[34mstep\u001b[39m(\n\u001b[32m    557\u001b[39m     \u001b[38;5;28mself\u001b[39m, action: ActType\n\u001b[32m    558\u001b[39m ) -> \u001b[38;5;28mtuple\u001b[39m[WrapperObsType, SupportsFloat, \u001b[38;5;28mbool\u001b[39m, \u001b[38;5;28mbool\u001b[39m, \u001b[38;5;28mdict\u001b[39m[\u001b[38;5;28mstr\u001b[39m, Any]]:\n\u001b[32m    559\u001b[39m \u001b[38;5;250m    \u001b[39m\u001b[33;03m\"\"\"Modifies the :attr:`env` after calling :meth:`step` using :meth:`self.observation` on the returned observations.\"\"\"\u001b[39;00m\n\u001b[32m--> \u001b[39m\u001b[32m560\u001b[39m     observation, reward, terminated, truncated, info = \u001b[38;5;28;43mself\u001b[39;49m\u001b[43m.\u001b[49m\u001b[43menv\u001b[49m\u001b[43m.\u001b[49m\u001b[43mstep\u001b[49m\u001b[43m(\u001b[49m\u001b[43maction\u001b[49m\u001b[43m)\u001b[49m\n\u001b[32m    561\u001b[39m     \u001b[38;5;28;01mreturn\u001b[39;00m \u001b[38;5;28mself\u001b[39m.observation(observation), reward, terminated, truncated, info\n",
      "\u001b[36mCell\u001b[39m\u001b[36m \u001b[39m\u001b[32mIn[15]\u001b[39m\u001b[32m, line 83\u001b[39m, in \u001b[36mVacuumEnv.step\u001b[39m\u001b[34m(self, action)\u001b[39m\n\u001b[32m     80\u001b[39m \u001b[38;5;28;01mif\u001b[39;00m done:\n\u001b[32m     81\u001b[39m     reward += \u001b[32m10.0\u001b[39m\n\u001b[32m---> \u001b[39m\u001b[32m83\u001b[39m \u001b[38;5;28;01mreturn\u001b[39;00m \u001b[38;5;28;43mself\u001b[39;49m\u001b[43m.\u001b[49m\u001b[43m_get_obs\u001b[49m\u001b[43m(\u001b[49m\u001b[43m)\u001b[49m, reward, done, \u001b[38;5;28;01mFalse\u001b[39;00m, {}\n",
      "\u001b[36mCell\u001b[39m\u001b[36m \u001b[39m\u001b[32mIn[15]\u001b[39m\u001b[32m, line 40\u001b[39m, in \u001b[36mVacuumEnv._get_obs\u001b[39m\u001b[34m(self)\u001b[39m\n\u001b[32m     35\u001b[39m left = \u001b[38;5;28mself\u001b[39m._check_cell_in_direction((\u001b[38;5;28mself\u001b[39m.agent_orient - \u001b[32m2\u001b[39m) % \u001b[32m8\u001b[39m)\n\u001b[32m     36\u001b[39m right = \u001b[38;5;28mself\u001b[39m._check_cell_in_direction((\u001b[38;5;28mself\u001b[39m.agent_orient + \u001b[32m2\u001b[39m) % \u001b[32m8\u001b[39m)\n\u001b[32m     37\u001b[39m \u001b[38;5;28;01mreturn\u001b[39;00m {\n\u001b[32m     38\u001b[39m     \u001b[33m\"\u001b[39m\u001b[33magent_pos\u001b[39m\u001b[33m\"\u001b[39m: np.array(\u001b[38;5;28mself\u001b[39m.agent_pos, dtype=np.int32),\n\u001b[32m     39\u001b[39m     \u001b[33m\"\u001b[39m\u001b[33magent_orient\u001b[39m\u001b[33m\"\u001b[39m: \u001b[38;5;28mself\u001b[39m.agent_orient,\n\u001b[32m---> \u001b[39m\u001b[32m40\u001b[39m     \u001b[33m\"\u001b[39m\u001b[33mlocal_view\u001b[39m\u001b[33m\"\u001b[39m: np.array([front, left, right], dtype=np.int8)\n\u001b[32m     41\u001b[39m }\n",
      "\u001b[31mKeyboardInterrupt\u001b[39m: "
     ]
    }
   ],
   "source": [
    "from gymnasium.wrappers import FlattenObservation\n",
    "from stable_baselines3 import DQN\n",
    "\n",
    "env = VacuumEnv()\n",
    "env = FlattenObservation(env)\n",
    "\n",
    "model = DQN(\"MlpPolicy\", env, verbose=1)\n",
    "\n",
    "model.learn(total_timesteps=10000)\n",
    "\n",
    "# Evaluate the model\n",
    "mean_reward, std_reward = evaluate_policy(model, env, n_eval_episodes=10)\n",
    "print(f\"Mean reward: {mean_reward:.2f} ± {std_reward:.2f}\")\n",
    "\n",
    "# Run the trained agent\n",
    "obs, _ = env.reset()\n",
    "for _ in range(100):\n",
    "    action, _states = model.predict(obs, deterministic=True)\n",
    "    obs, reward, terminated, truncated, info = env.step(action)\n",
    "    env.render()\n",
    "    if terminated or truncated:\n",
    "        obs, _ = env.reset()"
   ]
  },
  {
   "cell_type": "code",
   "execution_count": null,
   "id": "812d99bd-a321-4020-8639-10b3bdce6be5",
   "metadata": {},
   "outputs": [],
   "source": []
  },
  {
   "cell_type": "markdown",
   "id": "cae00cd8-e21e-4d32-91be-79df9a35f5dc",
   "metadata": {},
   "source": [
    "# Double DQN is there, need to implement Rainbow DQN ourselves"
   ]
  },
  {
   "cell_type": "code",
   "execution_count": null,
   "id": "0ca71b7a-cdb3-4d32-bfee-bc870b10581f",
   "metadata": {},
   "outputs": [],
   "source": []
  }
 ],
 "metadata": {
  "kernelspec": {
   "display_name": "Python (cs224r)",
   "language": "python",
   "name": "cs224r"
  },
  "language_info": {
   "codemirror_mode": {
    "name": "ipython",
    "version": 3
   },
   "file_extension": ".py",
   "mimetype": "text/x-python",
   "name": "python",
   "nbconvert_exporter": "python",
   "pygments_lexer": "ipython3",
   "version": "3.11.12"
  }
 },
 "nbformat": 4,
 "nbformat_minor": 5
}
